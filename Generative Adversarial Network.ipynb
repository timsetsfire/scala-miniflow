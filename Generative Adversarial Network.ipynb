{
 "cells": [
  {
   "cell_type": "code",
   "execution_count": 1,
   "metadata": {},
   "outputs": [
    {
     "data": {
      "application/vnd.jupyter.widget-view+json": {
       "model_id": "",
       "version_major": 2,
       "version_minor": 0
      },
      "method": "display_data"
     },
     "metadata": {},
     "output_type": "display_data"
    },
    {
     "data": {
      "application/vnd.jupyter.widget-view+json": {
       "model_id": "3a791dcb-3519-4c03-b65f-dabe77efd1ac",
       "version_major": 2,
       "version_minor": 0
      },
      "method": "display_data"
     },
     "metadata": {},
     "output_type": "display_data"
    }
   ],
   "source": [
    "%%classpath add mvn\n",
    "org.nd4j nd4j-native-platform 0.7.2\n",
    "org.nd4j nd4s_2.11 0.7.2"
   ]
  },
  {
   "cell_type": "code",
   "execution_count": 4,
   "metadata": {},
   "outputs": [
    {
     "data": {
      "application/vnd.jupyter.widget-view+json": {
       "model_id": "0b745064-2567-404c-8e7e-99bc54c09fd1",
       "version_major": 2,
       "version_minor": 0
      },
      "method": "display_data"
     },
     "metadata": {},
     "output_type": "display_data"
    }
   ],
   "source": [
    "%classpath add jar target/scala-2.11/scala-miniflow_2.11-0.1.0-SNAPSHOT.jar"
   ]
  },
  {
   "cell_type": "markdown",
   "metadata": {},
   "source": [
    "# Generative Adversarial Networks\n",
    "\n",
    "The objective today is to use a neural network library written from scratch to create a generative adversarial network from which we will create data that resembles the ever so popular MNIST data set.  \n",
    "\n",
    "First let's get a few questions out of the way\n",
    "\n",
    "## Why?\n",
    "\n",
    "1.  Scala - because it is a great language\n",
    "2.  ND4J - it is the main linear algebra library for DL4J (Deep learning 4 Java).  The author's objective was to shorten the gap between JVM languages and Numpy or Matlab\n",
    "3.  From Scratch - it is challenging a.f. and a lot of fun.  "
   ]
  },
  {
   "cell_type": "markdown",
   "metadata": {},
   "source": [
    "##  Feed Forward Neural networks\n",
    "\n",
    "Here we will begin to get into how we will model our neural network framework. Per Deep Learning by Goodfellow, the feedforward neural network is called such because\n",
    "\n",
    "* (feedforward) information flows through the function being evaluated from the input $x$, through intermediate computations used to define $f$, and finally to the output $y$. We are not considering any feedback connections\n",
    "* (network) They are typically represented by composing together many different functions. The model is associated with a directy acyclic graph describing how functions are componsed together.\n",
    "* (neural) The models are loosly inspired by neuroscience.  \n",
    "\n",
    "Albert did such a great job on from scratch that I'm not going to bother.  \n",
    "\n",
    "Our Node will\n",
    "* take as arguments, incoming nodes\n",
    "* have a method which captures outbound nodes\n",
    "* has a forward method (feed forward)\n",
    "* has a backward method (for back propagation)\n",
    "\n",
    "We'll demonstrate a simple example of using the framework to estimate a linear regression on the boston dataset, and then we'll jump into the GAN"
   ]
  },
  {
   "cell_type": "code",
   "execution_count": 5,
   "metadata": {},
   "outputs": [
    {
     "data": {
      "text/plain": [
       "import org.nd4j.linalg.factory.Nd4j\n",
       "import org.nd4s.Implicits._\n",
       "import org.nd4j.linalg.api.ndarray.INDArray\n",
       "import org.nd4s.Implicits._\n",
       "import com.github.timsetsfire.nn.node._\n",
       "import com.github.timsetsfire.nn.activation._\n",
       "import com.github.timsetsfire.nn.costfunctions._\n",
       "import com.github.timsetsfire.nn.regularization._\n",
       "import com.github.timsetsfire.nn.optimize._\n",
       "import com.github.timsetsfire.nn.graph._\n"
      ]
     },
     "execution_count": 5,
     "metadata": {},
     "output_type": "execute_result"
    }
   ],
   "source": [
    "import org.nd4j.linalg.factory.Nd4j\n",
    "import org.nd4s.Implicits._\n",
    "import org.nd4j.linalg.api.ndarray.INDArray\n",
    "import org.nd4s.Implicits._\n",
    "\n",
    "import com.github.timsetsfire.nn.node._\n",
    "import com.github.timsetsfire.nn.activation._\n",
    "import com.github.timsetsfire.nn.costfunctions._\n",
    "import com.github.timsetsfire.nn.regularization._\n",
    "import com.github.timsetsfire.nn.optimize._\n",
    "import com.github.timsetsfire.nn.graph._"
   ]
  },
  {
   "cell_type": "code",
   "execution_count": 6,
   "metadata": {},
   "outputs": [
    {
     "name": "stdout",
     "output_type": "stream",
     "text": [
      "{target}@5ac0409d\n",
      "{features}@941bfb4\n",
      "{weights}@3df2c5c8\n",
      "{bias}@656eae43\n",
      "{prediction}@347a17d6\n",
      "MSE@6c50509b\n"
     ]
    },
    {
     "data": {
      "text/plain": [
       "null"
      ]
     },
     "execution_count": 6,
     "metadata": {},
     "output_type": "execute_result"
    }
   ],
   "source": [
    "val x = new Input()  \n",
    "x.setName(\"features\")\n",
    "val y = new Input()  \n",
    "y.setName(\"target\")\n",
    "val w = new Variable()\n",
    "w.setName(\"weights\")\n",
    "val b = new Variable()\n",
    "b.setName(\"bias\")\n",
    "val yhat = new Linear(x,w,b)\n",
    "//val yhat = (x * w) + b\n",
    "yhat.setName(\"prediction\")\n",
    "val mse = new MSE(y, yhat)\n",
    "\n",
    "val regression = topologicalSort{ \n",
    "    buildGraph(mse) \n",
    "}\n",
    "\n",
    "regression.foreach(println)"
   ]
  },
  {
   "cell_type": "code",
   "execution_count": 8,
   "metadata": {},
   "outputs": [
    {
     "data": {
      "text/plain": []
     },
     "execution_count": 8,
     "metadata": {},
     "output_type": "execute_result"
    }
   ],
   "source": [
    "val x_ = Nd4j.readNumpy(\"resources/boston_x.csv\", \",\")\n",
    "val y_ = Nd4j.readNumpy(\"resources/boston_y.csv\", \",\")\n",
    "\"\""
   ]
  },
  {
   "cell_type": "code",
   "execution_count": 9,
   "metadata": {},
   "outputs": [
    {
     "name": "stdout",
     "output_type": "stream",
     "text": [
      "rows: 506, columns: 13"
     ]
    },
    {
     "data": {
      "text/plain": []
     },
     "execution_count": 9,
     "metadata": {},
     "output_type": "execute_result"
    }
   ],
   "source": [
    "val Array(xrows,nfeatures) = x_.shape\n",
    "print(s\"rows: $xrows, columns: $nfeatures\")\n",
    "\"\""
   ]
  },
  {
   "cell_type": "markdown",
   "metadata": {},
   "source": [
    "## Variable Initilization\n",
    "\n",
    "We need to initalize the bias and the weights.  For out purposes, we'll just set them equal to zero"
   ]
  },
  {
   "cell_type": "code",
   "execution_count": 10,
   "metadata": {},
   "outputs": [],
   "source": [
    "b.forward(Nd4j.zeros(1,1))\n",
    "w.forward(Nd4j.zeros(13,1))"
   ]
  },
  {
   "cell_type": "code",
   "execution_count": 11,
   "metadata": {},
   "outputs": [
    {
     "data": {
      "text/plain": []
     },
     "execution_count": 11,
     "metadata": {},
     "output_type": "execute_result"
    }
   ],
   "source": [
    "// standardize data \n",
    "val xs_ = x_.subRowVector(x_.mean(0)).divRowVector( x_.std(0))\n",
    "val ys_ = y_.subRowVector(y_.mean(0)).divRowVector( y_.std(0))\n",
    "val data = Nd4j.concat(1, ys_, xs_);\n",
    "val epochs = 500\n",
    "val batchSize = 100\n",
    "val stepsPerEpoch = xrows / batchSize\n",
    "\"\""
   ]
  },
  {
   "cell_type": "code",
   "execution_count": 12,
   "metadata": {},
   "outputs": [
    {
     "name": "stdout",
     "output_type": "stream",
     "text": [
      "Epoch: 0, Loss: 0.5545401036739349\n",
      "Epoch: 50, Loss: 0.22391912639141082\n",
      "Epoch: 100, Loss: 0.2998051196336746\n",
      "Epoch: 150, Loss: 0.21982854902744292\n",
      "Epoch: 200, Loss: 0.2476368725299835\n",
      "Epoch: 250, Loss: 0.2751003533601761\n",
      "Epoch: 300, Loss: 0.2491122841835022\n",
      "Epoch: 350, Loss: 0.2607834279537201\n",
      "Epoch: 400, Loss: 0.21473078727722167\n",
      "Epoch: 450, Loss: 0.25312365889549254\n",
      "Epoch: 500, Loss: 0.30145848393440244\n"
     ]
    },
    {
     "data": {
      "text/plain": [
       "null"
      ]
     },
     "execution_count": 12,
     "metadata": {},
     "output_type": "execute_result"
    }
   ],
   "source": [
    "val sgd = new GradientDescent(regression, learningRate = 0.1)\n",
    "for(epoch <- 0 to epochs) {\n",
    "  var loss = 0d\n",
    "  for(j <- 0 until stepsPerEpoch) {\n",
    "\n",
    "    Nd4j.shuffle(data, 1)\n",
    "\n",
    "    val feedDict: Map[Node, Any] = Map(\n",
    "      x -> data.getColumns( (1 to nfeatures):_*).getRows((0 until batchSize):_*),\n",
    "      y -> data.getColumn(0).getRows((0 until batchSize):_*)\n",
    "    )\n",
    "\n",
    "    sgd.optimize(feedDict)\n",
    "\n",
    "    loss += mse.value(0,0)\n",
    "  }\n",
    "  if(epoch % 50 == 0)  println(s\"Epoch: ${epoch}, Loss: ${loss/stepsPerEpoch.toDouble}\")\n",
    "}"
   ]
  },
  {
   "cell_type": "code",
   "execution_count": 13,
   "metadata": {},
   "outputs": [],
   "source": [
    "x.forward(xs_)\n",
    "y.forward(ys_)\n",
    "regression.foreach( _.forward())"
   ]
  },
  {
   "cell_type": "code",
   "execution_count": 14,
   "metadata": {},
   "outputs": [
    {
     "name": "stdout",
     "output_type": "stream",
     "text": [
      "final cost: 0.28\n"
     ]
    },
    {
     "data": {
      "text/plain": []
     },
     "execution_count": 14,
     "metadata": {},
     "output_type": "execute_result"
    }
   ],
   "source": [
    "println(s\"final cost: ${mse.value}\")\n",
    "\"\""
   ]
  },
  {
   "cell_type": "markdown",
   "metadata": {},
   "source": [
    "## GAN"
   ]
  },
  {
   "cell_type": "code",
   "execution_count": 15,
   "metadata": {},
   "outputs": [
    {
     "data": {
      "text/plain": [
       "import com.github.timsetsfire.nn.node._\n",
       "import com.github.timsetsfire.nn.activation._\n",
       "import com.github.timsetsfire.nn.costfunctions._\n",
       "import com.github.timsetsfire.nn.batchnormalization._\n",
       "import com.github.timsetsfire.nn.regularization.Dropout\n",
       "import com.github.timsetsfire.nn.optimize._\n",
       "import com.github.timsetsfire.nn.graph._\n",
       "import scala.util.Try\n",
       "import org.nd4j.linalg.factory.Nd4j\n",
       "import org.nd4j.linalg.api.ndarray.INDArray\n",
       "import org.nd4j.linalg.ops.transforms.Transforms.{sigmoid, exp, log, pow, sqrt}\n",
       "import org.nd4s.Implicits._\n"
      ]
     },
     "execution_count": 15,
     "metadata": {},
     "output_type": "execute_result"
    }
   ],
   "source": [
    "import com.github.timsetsfire.nn.node._\n",
    "import com.github.timsetsfire.nn.activation._\n",
    "import com.github.timsetsfire.nn.costfunctions._\n",
    "import com.github.timsetsfire.nn.batchnormalization._\n",
    "import com.github.timsetsfire.nn.regularization.Dropout\n",
    "import com.github.timsetsfire.nn.optimize._\n",
    "import com.github.timsetsfire.nn.graph._\n",
    "\n",
    "import scala.util.Try\n",
    "import org.nd4j.linalg.factory.Nd4j\n",
    "import org.nd4j.linalg.api.ndarray.INDArray\n",
    "import org.nd4j.linalg.ops.transforms.Transforms.{sigmoid,exp,log,pow,sqrt}\n",
    "import org.nd4s.Implicits._\n",
    "\n"
   ]
  },
  {
   "cell_type": "markdown",
   "metadata": {},
   "source": [
    "## Get and Import Data \n",
    "\n"
   ]
  },
  {
   "cell_type": "markdown",
   "metadata": {},
   "source": [
    "Run `curl -s https://pjreddie.com/media/files/mnist_test.csv > resources/mnist_test.csv` in terminal"
   ]
  },
  {
   "cell_type": "code",
   "execution_count": 16,
   "metadata": {},
   "outputs": [
    {
     "data": {
      "text/plain": []
     },
     "execution_count": 16,
     "metadata": {},
     "output_type": "execute_result"
    }
   ],
   "source": [
    "val x_ = Nd4j.readNumpy(\"mnist_test.csv\", \",\").getColumns( (1 until 785):_*).sub(127.5).div(127.5)\n",
    "\n",
    "\"\""
   ]
  },
  {
   "cell_type": "markdown",
   "metadata": {},
   "source": [
    "## Inputs\n",
    "\n",
    "For inputs, we'll have fake data, real data, and labels.  "
   ]
  },
  {
   "cell_type": "code",
   "execution_count": 17,
   "metadata": {},
   "outputs": [
    {
     "data": {
      "text/plain": [
       "null"
      ]
     },
     "execution_count": 17,
     "metadata": {},
     "output_type": "execute_result"
    }
   ],
   "source": [
    "val images = new Input()\n",
    "images.setName(\"images\")\n",
    "val labels = new Input()\n",
    "labels.setName(\"labels\")\n",
    "val noise = new Input()  // noise is used to generate fake images\n",
    "noise.setName(\"noise\")\n",
    "val fakeLabels = new Input()\n",
    "fakeLabels.setName(\"fake_labels\")"
   ]
  },
  {
   "cell_type": "markdown",
   "metadata": {},
   "source": [
    "## Generator Network\n",
    "\n",
    "This is the network that will generate fake data.  "
   ]
  },
  {
   "cell_type": "code",
   "execution_count": 18,
   "metadata": {},
   "outputs": [
    {
     "data": {
      "text/plain": [
       "null"
      ]
     },
     "execution_count": 18,
     "metadata": {},
     "output_type": "execute_result"
    }
   ],
   "source": [
    "val h1Generator= LeakyReLU(noise, (100,128), 0.2)\n",
    "h1Generator.setName(\"generator_hidden1\")\n",
    "\n",
    "val h2Generator= LeakyReLU(h1Generator, (128, 256), 0.2)\n",
    "h2Generator.setName(\"generator_hidden2\")\n",
    "\n",
    "val h3Generator= LeakyReLU(h2Generator, (256, 512), 0.2)\n",
    "h3Generator.setName(\"generator_hidden3\")\n",
    "\n",
    "val fakeImages = Tanh(h3Generator, (512,784))\n",
    "fakeImages.setName(\"fake_images\")"
   ]
  },
  {
   "cell_type": "code",
   "execution_count": 19,
   "metadata": {},
   "outputs": [
    {
     "data": {
      "text/plain": [
       "[[Variable@128c8d33, Variable@11731168, Variable@31ff6475, Variable@17b4fc2c, Variable@2116caf6, Variable@4e9d33b8, Variable@16ef2165, Variable@380eda4d]]"
      ]
     },
     "execution_count": 19,
     "metadata": {},
     "output_type": "execute_result"
    }
   ],
   "source": [
    "val generatorNetwork = buildGraph(fakeImages)\n",
    "val generator = topologicalSort(generatorNetwork)\n",
    "val generatorTrainables = generator.filter{ _.getClass.getSimpleName == \"Variable\" }"
   ]
  },
  {
   "cell_type": "markdown",
   "metadata": {},
   "source": [
    "## Discriminator Network"
   ]
  },
  {
   "cell_type": "code",
   "execution_count": 20,
   "metadata": {},
   "outputs": [
    {
     "data": {
      "text/plain": [
       "null"
      ]
     },
     "execution_count": 20,
     "metadata": {},
     "output_type": "execute_result"
    }
   ],
   "source": [
    "val h1Discrim = LeakyReLU(images, (784,256), 0.1)\n",
    "h1Discrim.setName(\"discriminator_hidden_layer1\")\n",
    "\n",
    "val d1 = new Dropout(h1Discrim, 0.20)\n",
    "d1.setName(\"dropout_h1_layer\")\n",
    "\n",
    "val h2Discrim = LeakyReLU(d1, (256,64), 0.1)\n",
    "h2Discrim.setName(\"discriminator_hidden_layer2\")\n",
    "\n",
    "val d2 = new Dropout(h2Discrim, 0.20)\n",
    "d2.setName(\"dropout_h2_layer\")\n",
    "\n",
    "val h3Discrim = LeakyReLU(d2, (64,16), 0.1)\n",
    "h3Discrim.setName(\"discriminator_hidden_layer3\")\n",
    "\n",
    "val logits = Linear(h3Discrim, (16, 1))\n",
    "logits.setName(\"discriminator_logits\")\n",
    "\n",
    "val cost = new BceWithLogits(labels, logits)\n",
    "cost.setName(\"cost_function\")"
   ]
  },
  {
   "cell_type": "code",
   "execution_count": 21,
   "metadata": {},
   "outputs": [
    {
     "data": {
      "text/plain": [
       "[[Variable@23918062, Variable@41e109d5, Variable@749e3f57, Variable@4bce4c8b, Variable@5605d0a5, Variable@66389039, Variable@2670677c, Variable@6f9664fa]]"
      ]
     },
     "execution_count": 21,
     "metadata": {},
     "output_type": "execute_result"
    }
   ],
   "source": [
    "val discriminatorNetwork = buildGraph(cost)\n",
    "val discriminator = topologicalSort(discriminatorNetwork)\n",
    "val discriminatorTrainables = discriminator.filter{ _.getClass.getSimpleName == \"Variable\" }"
   ]
  },
  {
   "cell_type": "code",
   "execution_count": 22,
   "metadata": {},
   "outputs": [],
   "source": [
    "// initialize generator and discriminator parameters\n",
    "discriminatorTrainables.foreach{ node =>\n",
    "    val (m,n) = node.size\n",
    "    node.value = Nd4j.randn(m.asInstanceOf[Int], n.asInstanceOf[Int]) * math.sqrt(3/(m.asInstanceOf[Int].toDouble + n.asInstanceOf[Int].toDouble))\n",
    "  }\n",
    "\n",
    "// initialize generator and discriminator\n",
    "generatorTrainables.foreach{ node =>\n",
    "    val (m,n) = node.size\n",
    "    node.value = Nd4j.randn(m.asInstanceOf[Int], n.asInstanceOf[Int]) * math.sqrt(3/(m.asInstanceOf[Int].toDouble + n.asInstanceOf[Int].toDouble))\n",
    "  }\n"
   ]
  },
  {
   "cell_type": "markdown",
   "metadata": {},
   "source": [
    "## Setting up first and second moment maps for Adam Optimizer"
   ]
  },
  {
   "cell_type": "code",
   "execution_count": 23,
   "metadata": {},
   "outputs": [
    {
     "data": {
      "text/plain": [
       "0"
      ]
     },
     "execution_count": 23,
     "metadata": {},
     "output_type": "execute_result"
    }
   ],
   "source": [
    "val Array(xrows, xcols) = x_.shape\n",
    "val batchSize = 128\n",
    "val stepsPerEpoch = xrows / batchSize\n",
    "\n",
    "val firstMomentGenerator = generatorTrainables.map{ i => (i, Nd4j.zerosLike(i.value))}.toMap\n",
    "val secondMomentGenerator = generatorTrainables.map{ i => (i, Nd4j.zerosLike(i.value))}.toMap\n",
    "val firstMomentDiscriminator = discriminatorTrainables.map{ i => (i, Nd4j.zerosLike(i.value))}.toMap\n",
    "val secondMomentDiscriminator = discriminatorTrainables.map{ i => (i, Nd4j.zerosLike(i.value))}.toMap\n",
    "val t = new java.util.concurrent.atomic.AtomicInteger"
   ]
  },
  {
   "cell_type": "code",
   "execution_count": 24,
   "metadata": {},
   "outputs": [
    {
     "data": {
      "text/plain": [
       "setDropoutTraining: (n: com.github.timsetsfire.nn.node.Node, training: Boolean)Unit\n"
      ]
     },
     "execution_count": 24,
     "metadata": {},
     "output_type": "execute_result"
    }
   ],
   "source": [
    "def setDropoutTraining(n: Node, training: Boolean = false): Unit = {\n",
    "  n.asInstanceOf[Dropout[Node]].train = training\n",
    "}"
   ]
  },
  {
   "cell_type": "code",
   "execution_count": 25,
   "metadata": {},
   "outputs": [
    {
     "data": {
      "text/plain": [
       "1.0E-8"
      ]
     },
     "execution_count": 25,
     "metadata": {},
     "output_type": "execute_result"
    }
   ],
   "source": [
    "var stepSize: Double = 0.002 // 0.001 default\n",
    "val beta1: Double = 0.2  // 0.9 default\n",
    "val beta2: Double = 0.999  // 0.999 default\n",
    "val delta: Double = 1e-8"
   ]
  },
  {
   "cell_type": "code",
   "execution_count": null,
   "metadata": {},
   "outputs": [
    {
     "name": "stdout",
     "output_type": "stream",
     "text": [
      "epoch: 0\tdiscriminator -> loss: 0.680\tgenerator -> loss: 0.919\n",
      "epoch: 10\tdiscriminator -> loss: 0.643\tgenerator -> loss: 0.932\n"
     ]
    }
   ],
   "source": [
    "for(epoch <- 0 to 100) {\n",
    "\n",
    "      var loss = 0d\n",
    "      var genCost = 0d\n",
    "      var n = 0d\n",
    "      for(steps <- 0 to stepsPerEpoch) {\n",
    "\n",
    "        t.addAndGet(1)\n",
    "\n",
    "        val noiseData = Nd4j.rand(batchSize,100).mul(2).sub(1)\n",
    "        val fakeLabelData = Nd4j.ones(batchSize, 1)\n",
    "\n",
    "        val generatorFeedDict: Map[Node, INDArray] = Map(\n",
    "          noise -> noiseData,\n",
    "          fakeLabels -> fakeLabelData\n",
    "        )\n",
    "\n",
    "        // generator\n",
    "        discriminator.filter{ _.getClass.getSimpleName == \"Dropout\"}.foreach(d => setDropoutTraining(d, false))\n",
    "        generatorFeedDict.foreach{ case (n, v) => n.forward(v)}\n",
    "        generator.foreach(_.forward())\n",
    "        images.forward(fakeImages.value)\n",
    "        labels.forward(fakeLabels.value)\n",
    "        discriminator.foreach(_.forward())\n",
    "        discriminator.reverse.foreach(_.backward())\n",
    "        //fakeImages.gradients(fakeImages) = images.gradients(images)\n",
    "        fakeImages.backward(images.gradients(images).dup)\n",
    "        generator.reverse.tail.foreach(_.backward())\n",
    "        // still need to update parameters of generator\n",
    "        genCost += (cost.value.sumT*batchSize)\n",
    "\n",
    "        for( n <- generatorTrainables) {\n",
    "          firstMomentGenerator(n).muli(beta1).addi(n.gradients(n).mul(1 - beta1))\n",
    "          secondMomentGenerator(n).muli(beta2).addi( pow(n.gradients(n),2).mul(1 - beta2))\n",
    "          val fhat = firstMomentGenerator(n).div(1 - math.pow(beta1, t.get))\n",
    "          val shat = secondMomentGenerator(n).div(1 - math.pow(beta2, t.get))\n",
    "          n.value.addi( fhat.mul(-stepSize).div(sqrt(shat).add(delta)))\n",
    "        }\n",
    "\n",
    "\n",
    "        generator.foreach(_.forward())\n",
    "        val fakeImageData = fakeImages.value\n",
    "        Nd4j.shuffle(x_,1)\n",
    "        val realImageData = x_.getRows((0 until batchSize):_*)\n",
    "        val realLabelData = Nd4j.ones(batchSize, 1)\n",
    "        val fakeLabelData0 = Nd4j.zeros(batchSize, 1)\n",
    "\n",
    "        val labelData = Nd4j.concat(0, fakeLabelData0, realLabelData)\n",
    "        val imageData = Nd4j.concat(0, fakeImageData, realImageData)\n",
    "        val discriminatorFeedDict: Map[Node, INDArray] = Map(\n",
    "          images -> imageData,\n",
    "          labels -> labelData\n",
    "        )\n",
    "\n",
    "        discriminator.filter{ _.getClass.getSimpleName == \"Dropout\"}.foreach(d => setDropoutTraining(d, true))\n",
    "        discriminatorFeedDict.foreach{ case (n, v) => n.forward(v)}\n",
    "        discriminator.foreach(_.forward())\n",
    "        discriminator.reverse.foreach(_.backward())\n",
    "\n",
    "        for( n <- discriminatorTrainables) {\n",
    "          firstMomentDiscriminator(n).muli(beta1).addi(n.gradients(n).mul(1d - beta1))\n",
    "          secondMomentDiscriminator(n).muli(beta2).addi( pow(n.gradients(n),2).mul(1d - beta2))\n",
    "          val fhat = firstMomentDiscriminator(n).div(1 - math.pow(beta1, t.get))\n",
    "          val shat = secondMomentDiscriminator(n).div(1 - math.pow(beta2, t.get))\n",
    "          n.value.addi( fhat.mul(-stepSize).div(sqrt(shat).add(delta)))\n",
    "        }\n",
    "\n",
    "        loss += ((cost.value(0,0)) * images.value.shape.apply(0))\n",
    "        n += images.value.shape.apply(0)\n",
    "      }\n",
    "      // if(epoch % 1000 == 0) stepSize /= 2d\n",
    "      if(epoch % 10 == 0) {\n",
    "        print(f\"epoch: ${epoch}\")\n",
    "        print(f\"\\tdiscriminator -> loss: ${loss / n.toDouble}%2.3f\")\n",
    "        println(f\"\\tgenerator -> loss: ${genCost / (n.toDouble/2d)}%2.3f\")\n",
    "\n",
    "      }\n",
    "}"
   ]
  },
  {
   "cell_type": "markdown",
   "metadata": {},
   "source": [
    "First Epoch\n",
    "![epoch](resources/fig0.png)"
   ]
  },
  {
   "cell_type": "markdown",
   "metadata": {},
   "source": [
    "Epoch 10\n",
    "![epoch 100](resources/fig10.png)"
   ]
  },
  {
   "cell_type": "markdown",
   "metadata": {},
   "source": [
    "Epoch 50\n",
    "![epoch 100](resources/fig50.png)"
   ]
  },
  {
   "cell_type": "markdown",
   "metadata": {},
   "source": [
    "Epoch 80\n",
    "![epoch 100](resources/fig80.png)"
   ]
  },
  {
   "cell_type": "markdown",
   "metadata": {},
   "source": [
    "Epoch 100\n",
    "![epoch 100](resources/fig100.png)"
   ]
  },
  {
   "cell_type": "code",
   "execution_count": null,
   "metadata": {},
   "outputs": [],
   "source": []
  }
 ],
 "metadata": {
  "kernelspec": {
   "display_name": "Scala",
   "language": "scala",
   "name": "scala"
  },
  "language_info": {
   "codemirror_mode": "text/x-scala",
   "file_extension": ".scala",
   "mimetype": "",
   "name": "Scala",
   "nbconverter_exporter": "",
   "version": "2.11.12"
  },
  "toc": {
   "base_numbering": 1,
   "nav_menu": {},
   "number_sections": false,
   "sideBar": false,
   "skip_h1_title": false,
   "title_cell": "Table of Contents",
   "title_sidebar": "Contents",
   "toc_cell": false,
   "toc_position": {},
   "toc_section_display": false,
   "toc_window_display": false
  }
 },
 "nbformat": 4,
 "nbformat_minor": 2
}
