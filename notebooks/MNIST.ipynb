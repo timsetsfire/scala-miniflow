{
 "cells": [
  {
   "cell_type": "code",
   "execution_count": 3,
   "metadata": {},
   "outputs": [
    {
     "data": {
      "application/vnd.jupyter.widget-view+json": {
       "model_id": "",
       "version_major": 2,
       "version_minor": 0
      },
      "method": "display_data"
     },
     "metadata": {},
     "output_type": "display_data"
    },
    {
     "data": {
      "application/vnd.jupyter.widget-view+json": {
       "model_id": "dca32a9c-82fe-40b1-bec1-ce3496180731",
       "version_major": 2,
       "version_minor": 0
      },
      "method": "display_data"
     },
     "metadata": {},
     "output_type": "display_data"
    }
   ],
   "source": [
    "%%classpath add mvn \n",
    "org.nd4j nd4j-native-platform 0.7.2\n",
    "org.nd4j nd4s_2.11 0.7.2"
   ]
  },
  {
   "cell_type": "code",
   "execution_count": 2,
   "metadata": {},
   "outputs": [
    {
     "data": {
      "application/vnd.jupyter.widget-view+json": {
       "model_id": "c6d3cbd1-a0f3-4875-bcd8-8ef6d06762e2",
       "version_major": 2,
       "version_minor": 0
      },
      "method": "display_data"
     },
     "metadata": {},
     "output_type": "display_data"
    }
   ],
   "source": [
    "%classpath add jar ../target/scala-2.11/scala-miniflow_2.11-0.1.0-SNAPSHOT.jar"
   ]
  },
  {
   "cell_type": "code",
   "execution_count": 3,
   "metadata": {
    "collapsed": true
   },
   "outputs": [],
   "source": [
    "import com.github.timsetsfire.nn.node._\n",
    "import com.github.timsetsfire.nn.activation._\n",
    "import com.github.timsetsfire.nn.costfunctions._\n",
    "import com.github.timsetsfire.nn.regularization._\n",
    "import com.github.timsetsfire.nn.optimize._\n",
    "import com.github.timsetsfire.nn.graph._\n",
    "\n",
    "import scala.util.Try\n",
    "import org.nd4j.linalg.factory.Nd4j\n",
    "import org.nd4j.linalg.api.ndarray.INDArray\n",
    "import org.nd4j.linalg.ops.transforms.Transforms.{sigmoid,exp,log}\n",
    "import org.nd4s.Implicits._\n",
    "import scala.collection.mutable.{ArrayBuffer, Map=>MutMap, Set=>MutSet}\n",
    "OutputCell.HIDDEN"
   ]
  },
  {
   "cell_type": "code",
   "execution_count": 4,
   "metadata": {
    "collapsed": true
   },
   "outputs": [],
   "source": [
    "val d = Nd4j.readNumpy(\"../data/mnist_test.csv\", \",\")\n",
    "val Array(nrows, ncols) = d.shape\n",
    "val x_ = d(->, 1 until ncols)\n",
    "val y_ = d(->, 0)\n",
    "OutputCell.HIDDEN"
   ]
  },
  {
   "cell_type": "code",
   "execution_count": 5,
   "metadata": {
    "collapsed": true
   },
   "outputs": [],
   "source": [
    "val ypos = y_.dup.data.asInt zipWithIndex\n",
    "val y2_ = Nd4j.zeros(nrows, 10)\n",
    "ypos.foreach{ case (k,v) => y2_.putScalar(v,k,1.0)}\n",
    "OutputCell.HIDDEN"
   ]
  },
  {
   "cell_type": "markdown",
   "metadata": {},
   "source": [
    "Create Network"
   ]
  },
  {
   "cell_type": "code",
   "execution_count": 16,
   "metadata": {
    "collapsed": true
   },
   "outputs": [],
   "source": [
    "\n",
    "val images = new Input()\n",
    "images.setName(\"images\")\n",
    "val labels = new Input()\n",
    "labels.setName(\"labels\")\n",
    "\n",
    "// discriminator\n",
    "\n",
    "val h1Discrim = LeakyReLU(images, (784,256), 0.1)\n",
    "h1Discrim.setName(\"discriminator_hidden_layer1\")\n",
    "val d1 = new Dropout(h1Discrim, 0.01)\n",
    "d1.setName(\"dropout_h1_layer\")\n",
    "\n",
    "val h2Discrim = LeakyReLU(d1, (256,64), 0.1)\n",
    "h2Discrim.setName(\"discriminator_hidden_layer2\")\n",
    "val d2 = new Dropout(h2Discrim,0.01)\n",
    "d2.setName(\"dropout_h2_layer\")\n",
    "\n",
    "val h3Discrim = LeakyReLU(d2, (64,16), 0.1)\n",
    "h3Discrim.setName(\"discriminator_hidden_layer3\")\n",
    "\n",
    "val logits = Linear(h3Discrim, (16, 10))\n",
    "logits.setName(\"discriminator_logits\")\n",
    "\n",
    "val ce = new CrossEntropyWithLogits(labels, logits)\n",
    "\n",
    "OutputCell.HIDDEN\n"
   ]
  },
  {
   "cell_type": "code",
   "execution_count": 17,
   "metadata": {},
   "outputs": [
    {
     "data": {
      "text/plain": [
       "setDropoutTraining: (n: com.github.timsetsfire.nn.node.Node, training: Boolean)Unit\n"
      ]
     },
     "execution_count": 17,
     "metadata": {},
     "output_type": "execute_result"
    }
   ],
   "source": [
    "    def setDropoutTraining(n: Node, training: Boolean = false): Unit = {\n",
    "      n.asInstanceOf[Dropout[Node]].train = training\n",
    "    }"
   ]
  },
  {
   "cell_type": "code",
   "execution_count": 18,
   "metadata": {},
   "outputs": [
    {
     "data": {
      "text/plain": [
       "[[Variable@69c556f, Variable@69b764af, Variable@1680b243, {labels}@4b9024ea, Variable@72d3b65b, Variable@7c9a741c, Variable@28e20014, {images}@4e472edd, Variable@139464ba, Variable@44402e20, Linear@2eb000b, {discriminator_hidden_layer1}@42d2026f, {dropout_h1_layer}@4c986f35, Linear@3effed60, {discriminator_hidden_layer2}@3bde91bd, {dropout_h2_layer}@71a35558, Linear@11efd576, {discriminator_hidden_layer3}@2330f079, {discriminator_logits}@2c5ec2ed, CrossEntropyWithLogits@54622b2e]]"
      ]
     },
     "execution_count": 18,
     "metadata": {},
     "output_type": "execute_result"
    }
   ],
   "source": [
    "\n",
    "val network = topologicalSort{ \n",
    "    buildGraph(ce)\n",
    "}\n",
    "\n"
   ]
  },
  {
   "cell_type": "code",
   "execution_count": 19,
   "metadata": {},
   "outputs": [
    {
     "data": {
      "text/plain": [
       "[[(), ()]]"
      ]
     },
     "execution_count": 19,
     "metadata": {},
     "output_type": "execute_result"
    }
   ],
   "source": [
    "\n",
    "val epochs = 20\n",
    "val batchSize = 600\n",
    "val stepsPerEpoch = nrows / batchSize\n",
    "\n",
    "\n",
    "network.foreach{\n",
    "  node =>\n",
    "  if(node.getClass.getSimpleName == \"Variable\" ) {\n",
    "        val (m,n) = node.size\n",
    "        node.value = Nd4j.randn(m.asInstanceOf[Int], \n",
    "                                n.asInstanceOf[Int]\n",
    "                               ).div(math.sqrt(m.asInstanceOf[Int]) + math.sqrt(n.asInstanceOf[Int] ))\n",
    "  }\n",
    "}\n",
    "\n",
    "\n",
    "network.filter( _.getClass.getSimpleName == \"Dropout\").map{ i => setDropoutTraining(i, true) }\n",
    "\n"
   ]
  },
  {
   "cell_type": "code",
   "execution_count": 20,
   "metadata": {
    "collapsed": true
   },
   "outputs": [],
   "source": [
    "val data = Nd4j.concat(1,y2_, x_)\n",
    "OutputCell.HIDDEN"
   ]
  },
  {
   "cell_type": "code",
   "execution_count": 21,
   "metadata": {},
   "outputs": [
    {
     "data": {
      "text/plain": [
       "[10000, 794]"
      ]
     },
     "execution_count": 21,
     "metadata": {},
     "output_type": "execute_result"
    }
   ],
   "source": [
    "data.shape"
   ]
  },
  {
   "cell_type": "code",
   "execution_count": 22,
   "metadata": {},
   "outputs": [
    {
     "data": {
      "text/plain": [
       "[1, 784]"
      ]
     },
     "execution_count": 22,
     "metadata": {},
     "output_type": "execute_result"
    }
   ],
   "source": [
    "data.getRow(0).getColumns( (10 until (784+10)):_*).shape"
   ]
  },
  {
   "cell_type": "code",
   "execution_count": 23,
   "metadata": {},
   "outputs": [
    {
     "data": {
      "text/plain": [
       "accuracy: (y: org.nd4j.linalg.api.ndarray.INDArray, logits: org.nd4j.linalg.api.ndarray.INDArray)org.nd4j.linalg.api.ndarray.INDArray\n"
      ]
     },
     "execution_count": 23,
     "metadata": {},
     "output_type": "execute_result"
    }
   ],
   "source": [
    "def accuracy(y: INDArray, logits: INDArray) = {\n",
    "    val p = exp(logits)\n",
    "    p.diviColumnVector(p.sum(1))\n",
    "    val yhat_ = Nd4j.argMax(p,1)\n",
    "    (Nd4j.argMax(y, 1) eq yhat_).sum(0) / y_.shape.apply(0).toDouble\n",
    "}"
   ]
  },
  {
   "cell_type": "code",
   "execution_count": 24,
   "metadata": {},
   "outputs": [
    {
     "name": "stdout",
     "output_type": "stream",
     "text": [
      "epoch: 0, loss: 1.7254611141979694, accuracy: 0.05\n",
      "epoch: 10, loss: 0.3509552170607177, accuracy: 0.06\n",
      "epoch: 20, loss: 0.20189838504995264, accuracy: 0.06\n"
     ]
    },
    {
     "data": {
      "text/plain": [
       "null"
      ]
     },
     "execution_count": 24,
     "metadata": {},
     "output_type": "execute_result"
    }
   ],
   "source": [
    "\n",
    "val adam = new Adam(network)\n",
    "\n",
    "var cost = 0d\n",
    "var n = 0d\n",
    "for(i <- 0 to epochs) {\n",
    "\n",
    "    var loss = 0d\n",
    "    for(j <- 0 until stepsPerEpoch) {\n",
    "\n",
    "        Nd4j.shuffle(data, 1)\n",
    "\n",
    "        val feedDict: Map[Node, Any] = Map(\n",
    "            images -> data.getColumns( (10 until 10 + 784):_*).getRows( (0 until batchSize):_*),\n",
    "            labels -> data.getColumns( (0 until 10):_*).getRows( (0 until batchSize):_*)\n",
    "        )\n",
    "\n",
    "        adam.optimize(feedDict)\n",
    "        val n1 = images.value.shape.apply(0)\n",
    "        val c1 = ce.value.sumT * n1\n",
    "        cost += c1\n",
    "        n += n1\n",
    "        \n",
    "    }\n",
    "    if(i % 10 == 0) println(f\"epoch: ${i}, loss: ${cost / n.toDouble}, accuracy: ${accuracy(labels.value, logits.value)}\")\n",
    "}\n",
    "\n"
   ]
  },
  {
   "cell_type": "code",
   "execution_count": 25,
   "metadata": {},
   "outputs": [
    {
     "name": "stdout",
     "output_type": "stream",
     "text": [
      "accuracy 1.00\n"
     ]
    },
    {
     "data": {
      "text/plain": [
       "null"
      ]
     },
     "execution_count": 25,
     "metadata": {},
     "output_type": "execute_result"
    }
   ],
   "source": [
    "network.filter( _.getClass.getSimpleName == \"Dropout\").map{ i => setDropoutTraining(i, false) }\n",
    "\n",
    "val feedDict: Map[Node, INDArray] = Map( \n",
    "    images -> data.getColumns( (10 until 10 + 784):_*),\n",
    "    labels -> data.getColumns( (0 until 10):_*)\n",
    ")\n",
    "feedDict.foreach{ case (node, value) => node.forward(value)}\n",
    "network.foreach( _.forward())\n",
    "\n",
    "println(f\"accuracy ${accuracy(labels.value, logits.value)}\")"
   ]
  },
  {
   "cell_type": "code",
   "execution_count": null,
   "metadata": {
    "collapsed": true
   },
   "outputs": [],
   "source": [
    "import java.io._\n",
    "\n",
    "@SerialVersionUID(100L)\n",
    "class SNode(val inboundNodes: SNode*) extends Serializable \n",
    "class TNode(inboundNodes: TNode*) extends SNode(inboundNodes:_*)"
   ]
  },
  {
   "cell_type": "code",
   "execution_count": null,
   "metadata": {
    "collapsed": true
   },
   "outputs": [],
   "source": [
    "\n",
    "\n",
    "    // (1) create a Stock instance\n",
    "    val x = new TNode()\n",
    "    val y = new TNode(x)\n",
    "\n",
    "\n",
    "    //val net = topologicalSort( buildGraph(y) )\n",
    "\n",
    "//net.getClass\n",
    "    \n",
    "\n"
   ]
  },
  {
   "cell_type": "code",
   "execution_count": null,
   "metadata": {
    "collapsed": true
   },
   "outputs": [],
   "source": [
    "val t = ArrayBuffer(x,y)"
   ]
  },
  {
   "cell_type": "code",
   "execution_count": null,
   "metadata": {
    "collapsed": true
   },
   "outputs": [],
   "source": [
    "val y = ArrayBuffer(1,2,3,4)\n",
    "    // (2) write the instance out to a file\n",
    "    val oos = new ObjectOutputStream(new FileOutputStream(\"test.srl\"))\n",
    "    oos.writeObject(t)\n",
    "    oos.close\n",
    "\n",
    "    // (3) read the object back in\n",
    "    val ois = new ObjectInputStream(new FileInputStream(\"test.srl\"))\n",
    "    val xin = ois.readObject.asInstanceOf[ArrayBuffer[TNode]]\n",
    "    ois.close\n",
    "\n",
    "    // (4) print the object that was read back in\n",
    "    //println(xin.value)\n",
    "\n"
   ]
  },
  {
   "cell_type": "code",
   "execution_count": null,
   "metadata": {
    "collapsed": true
   },
   "outputs": [],
   "source": [
    "x.getClass.getName"
   ]
  },
  {
   "cell_type": "code",
   "execution_count": null,
   "metadata": {
    "collapsed": true
   },
   "outputs": [],
   "source": [
    "val test= ArrayBuffer(1,2,3)"
   ]
  },
  {
   "cell_type": "code",
   "execution_count": null,
   "metadata": {
    "collapsed": true
   },
   "outputs": [],
   "source": [
    "test -- 1"
   ]
  },
  {
   "cell_type": "code",
   "execution_count": null,
   "metadata": {
    "collapsed": true
   },
   "outputs": [],
   "source": [
    "\n",
    "test - 1"
   ]
  },
  {
   "cell_type": "code",
   "execution_count": null,
   "metadata": {
    "collapsed": true
   },
   "outputs": [],
   "source": [
    "test.foreach{ i => test - i}"
   ]
  },
  {
   "cell_type": "code",
   "execution_count": null,
   "metadata": {
    "collapsed": true
   },
   "outputs": [],
   "source": [
    "test"
   ]
  },
  {
   "cell_type": "code",
   "execution_count": null,
   "metadata": {
    "collapsed": true
   },
   "outputs": [],
   "source": []
  }
 ],
 "metadata": {
  "kernelspec": {
   "display_name": "Scala",
   "language": "scala",
   "name": "scala"
  },
  "language_info": {
   "codemirror_mode": "text/x-scala",
   "file_extension": ".scala",
   "mimetype": "",
   "name": "Scala",
   "nbconverter_exporter": "",
   "version": "2.11.12"
  },
  "toc": {
   "base_numbering": 1,
   "nav_menu": {},
   "number_sections": false,
   "sideBar": false,
   "skip_h1_title": false,
   "title_cell": "Table of Contents",
   "title_sidebar": "Contents",
   "toc_cell": false,
   "toc_position": {},
   "toc_section_display": false,
   "toc_window_display": false
  }
 },
 "nbformat": 4,
 "nbformat_minor": 2
}
