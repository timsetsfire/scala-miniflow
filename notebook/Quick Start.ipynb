{
 "cells": [
  {
   "cell_type": "code",
   "execution_count": 1,
   "metadata": {},
   "outputs": [
    {
     "data": {
      "application/vnd.jupyter.widget-view+json": {
       "model_id": "",
       "version_major": 2,
       "version_minor": 0
      },
      "method": "display_data"
     },
     "metadata": {},
     "output_type": "display_data"
    },
    {
     "data": {
      "application/vnd.jupyter.widget-view+json": {
       "model_id": "b0adc340-5c34-47ac-b1d6-9545ad59c2f6",
       "version_major": 2,
       "version_minor": 0
      },
      "method": "display_data"
     },
     "metadata": {},
     "output_type": "display_data"
    }
   ],
   "source": [
    "%%classpath add mvn\n",
    "org.nd4j nd4j-native-platform 0.7.2\n",
    "org.nd4j nd4s_2.11 0.7.2"
   ]
  },
  {
   "cell_type": "code",
   "execution_count": 2,
   "metadata": {},
   "outputs": [
    {
     "data": {
      "application/vnd.jupyter.widget-view+json": {
       "model_id": "75d4d39f-b79f-4d18-9300-0d2005ffea40",
       "version_major": 2,
       "version_minor": 0
      },
      "method": "display_data"
     },
     "metadata": {},
     "output_type": "display_data"
    }
   ],
   "source": [
    "%classpath add jar ../target/scala-2.11/scala-miniflow_2.11-0.1.0-SNAPSHOT.jar"
   ]
  },
  {
   "cell_type": "code",
   "execution_count": 4,
   "metadata": {},
   "outputs": [
    {
     "data": {
      "text/plain": [
       "import org.nd4j.linalg.factory.Nd4j\r\n",
       "import org.nd4s.Implicits._\r\n",
       "import org.nd4j.linalg.api.ndarray.INDArray\r\n",
       "import org.nd4j.linalg.ops.transforms.Transforms.{sigmoid, exp, log, pow, sqrt}\r\n",
       "import org.nd4s.Implicits._\r\n",
       "import com.github.timsetsfire.nn.node._\r\n",
       "import com.github.timsetsfire.nn.activation._\r\n",
       "import com.github.timsetsfire.nn.costfunctions._\r\n",
       "import com.github.timsetsfire.nn.regularization._\r\n",
       "import com.github.timsetsfire.nn.optimize._\r\n",
       "import com.github.timsetsfire.nn.graph._\n"
      ]
     },
     "execution_count": 4,
     "metadata": {},
     "output_type": "execute_result"
    }
   ],
   "source": [
    "import org.nd4j.linalg.factory.Nd4j\n",
    "import org.nd4s.Implicits._\n",
    "import org.nd4j.linalg.api.ndarray.INDArray\n",
    "import org.nd4j.linalg.ops.transforms.Transforms.{sigmoid,exp,log,pow,sqrt}\n",
    "import org.nd4s.Implicits._\n",
    "\n",
    "import com.github.timsetsfire.nn.node._\n",
    "import com.github.timsetsfire.nn.activation._\n",
    "import com.github.timsetsfire.nn.costfunctions._\n",
    "import com.github.timsetsfire.nn.regularization._\n",
    "import com.github.timsetsfire.nn.optimize._\n",
    "import com.github.timsetsfire.nn.graph._"
   ]
  },
  {
   "cell_type": "markdown",
   "metadata": {},
   "source": [
    "## Create the Network"
   ]
  },
  {
   "cell_type": "code",
   "execution_count": 5,
   "metadata": {},
   "outputs": [
    {
     "data": {
      "text/plain": [
       "[[Input@6fac4881, Variable@7a56e685, Variable@3d17dbd9, Variable@22b9e63, Input@7e9c834b, Variable@77b350b2, Linear@75b00ba7, ReLU@77c91949, Linear@4b53275a, MSE@3b6c993]]"
      ]
     },
     "execution_count": 5,
     "metadata": {},
     "output_type": "execute_result"
    }
   ],
   "source": [
    "val x = new Input()\n",
    "val y = new Input()\n",
    "val h1 = ReLU(x, (13,6))\n",
    "val yhat = Linear(h1, (6,1))\n",
    "val mse = new MSE(y, yhat)\n",
    "val network = topologicalSort{\n",
    "  buildGraph(mse)\n",
    "}"
   ]
  },
  {
   "cell_type": "markdown",
   "metadata": {},
   "source": [
    "## Initialize the trainables"
   ]
  },
  {
   "cell_type": "code",
   "execution_count": 20,
   "metadata": {},
   "outputs": [
    {
     "data": {
      "text/plain": [
       "null"
      ]
     },
     "execution_count": 20,
     "metadata": {},
     "output_type": "execute_result"
    }
   ],
   "source": [
    "network.filter{\n",
    "    _.getClass.getSimpleName == \"Variable\"\n",
    "}.foreach{\n",
    "    weights =>\n",
    "      val size = weights.size\n",
    "      val (m,n) = (size._1.asInstanceOf[Int], size._2.asInstanceOf[Int])\n",
    "      weights.value = Nd4j.randn(m,n) * math.sqrt(3/(m.toDouble + n.toDouble))\n",
    "}"
   ]
  },
  {
   "cell_type": "markdown",
   "metadata": {},
   "source": [
    "## Import and prepare data"
   ]
  },
  {
   "cell_type": "code",
   "execution_count": 13,
   "metadata": {},
   "outputs": [],
   "source": [
    "val x_ = Nd4j.readNumpy(\"../resources/boston_x.csv\", \",\")\n",
    "val y_ = Nd4j.readNumpy(\"../resources/boston_y.csv\", \",\")\n",
    "\n",
    "val Array(nobs, nfeatures) = x_.shape\n",
    "\n",
    "// standardize data\n",
    "val xs_ = x_.subRowVector(x_.mean(0)).divRowVector( x_.std(0))\n",
    "val ys_ = y_.subRowVector(y_.mean(0)).divRowVector( y_.std(0))\n",
    "\n",
    "// concatenate data\n",
    "val data = Nd4j.concat(1, ys_, xs_);\n",
    "\n",
    "OutputCell.HIDDEN"
   ]
  },
  {
   "cell_type": "markdown",
   "metadata": {},
   "source": [
    "## Set hyperparameters"
   ]
  },
  {
   "cell_type": "code",
   "execution_count": 25,
   "metadata": {},
   "outputs": [],
   "source": [
    "val epochs = 500\n",
    "val batchSize = 100\n",
    "val stepsPerEpoch = nobs / batchSize\n",
    "\n",
    "OutputCell.HIDDEN"
   ]
  },
  {
   "cell_type": "markdown",
   "metadata": {},
   "source": [
    "## Initialize Optmiizer"
   ]
  },
  {
   "cell_type": "code",
   "execution_count": 22,
   "metadata": {},
   "outputs": [
    {
     "data": {
      "text/plain": [
       "com.github.timsetsfire.nn.optimize.GradientDescent@61c9d3e9"
      ]
     },
     "execution_count": 22,
     "metadata": {},
     "output_type": "execute_result"
    }
   ],
   "source": [
    "val sgd = new GradientDescent(network, learningRate = 0.1)"
   ]
  },
  {
   "cell_type": "code",
   "execution_count": 26,
   "metadata": {},
   "outputs": [
    {
     "data": {
      "text/plain": [
       "r2: (y: org.nd4j.linalg.api.ndarray.INDArray, yhat: org.nd4j.linalg.api.ndarray.INDArray)Double\n"
      ]
     },
     "execution_count": 26,
     "metadata": {},
     "output_type": "execute_result"
    }
   ],
   "source": [
    "def r2(y: INDArray, yhat: INDArray) = {\n",
    "  val rss = pow(y sub yhat,2)\n",
    "  val tss = pow(y.subRowVector(y.mean(0)),2)\n",
    "  1d - rss.sumT / tss.sumT\n",
    "}"
   ]
  },
  {
   "cell_type": "markdown",
   "metadata": {},
   "source": [
    "## Train network via SGD"
   ]
  },
  {
   "cell_type": "code",
   "execution_count": 24,
   "metadata": {},
   "outputs": [
    {
     "name": "stdout",
     "output_type": "stream",
     "text": [
      "Epoch: 0, Loss: 1.9552069783210755, R^2: 0.09255545763490536\n",
      "Epoch: 50, Loss: 0.11243275701999664, R^2: 0.8955818783651585\n",
      "Epoch: 100, Loss: 0.16669582724571227, R^2: 0.8370410591782594\n",
      "Epoch: 150, Loss: 0.11385386288166047, R^2: 0.864772825942544\n",
      "Epoch: 200, Loss: 0.12097328156232834, R^2: 0.8620823103992047\n",
      "Epoch: 250, Loss: 0.10993571430444718, R^2: 0.880605883263533\n",
      "Epoch: 300, Loss: 0.10807902812957763, R^2: 0.9454215783958917\n",
      "Epoch: 350, Loss: 0.10221610963344574, R^2: 0.9045215060716915\n",
      "Epoch: 400, Loss: 0.09244593977928162, R^2: 0.8720988368258396\n",
      "Epoch: 450, Loss: 0.0783352643251419, R^2: 0.8749555553949862\n",
      "Epoch: 500, Loss: 0.09016990810632705, R^2: 0.9058000814436297\n"
     ]
    }
   ],
   "source": [
    "for(epoch <- 0 to epochs) {\n",
    "  var loss = 0d\n",
    "  for(j <- 0 until stepsPerEpoch) {\n",
    "\n",
    "    Nd4j.shuffle(data, 1)\n",
    "\n",
    "    val feedDict: Map[Node, Any] = Map(\n",
    "      x -> data.getColumns( (1 to nfeatures):_*).getRows((0 until batchSize):_*),\n",
    "      y -> data.getColumn(0).getRows((0 until batchSize):_*)\n",
    "    )\n",
    "\n",
    "    sgd.optimize(feedDict)\n",
    "\n",
    "    loss += mse.value(0,0)\n",
    "  }\n",
    "  if(epoch % 50 == 0)  println(s\"Epoch: ${epoch}, Loss: ${loss/stepsPerEpoch.toDouble}, R^2: ${r2(y.value, yhat.value)}\")\n",
    "}\n",
    "OutputCell.HIDDEN"
   ]
  },
  {
   "cell_type": "markdown",
   "metadata": {},
   "source": [
    "## Calc total loss and accuracy"
   ]
  },
  {
   "cell_type": "code",
   "execution_count": 32,
   "metadata": {},
   "outputs": [
    {
     "name": "stdout",
     "output_type": "stream",
     "text": [
      "Loss: 0.09, R^2: 0.91\n"
     ]
    }
   ],
   "source": [
    "x.forward(xs_)\n",
    "y.forward(ys_)\n",
    "network.foreach(_.forward())\n",
    "println(f\"Loss: ${mse.value}, R^2: ${r2(y.value, yhat.value)}%2.2f\")\n",
    "OutputCell.HIDDEN"
   ]
  },
  {
   "cell_type": "code",
   "execution_count": null,
   "metadata": {},
   "outputs": [],
   "source": []
  }
 ],
 "metadata": {
  "kernelspec": {
   "display_name": "Scala",
   "language": "scala",
   "name": "scala"
  },
  "language_info": {
   "codemirror_mode": "text/x-scala",
   "file_extension": ".scala",
   "mimetype": "",
   "name": "Scala",
   "nbconverter_exporter": "",
   "version": "2.11.12"
  },
  "toc": {
   "base_numbering": 1,
   "nav_menu": {},
   "number_sections": false,
   "sideBar": false,
   "skip_h1_title": false,
   "title_cell": "Table of Contents",
   "title_sidebar": "Contents",
   "toc_cell": false,
   "toc_position": {},
   "toc_section_display": false,
   "toc_window_display": false
  }
 },
 "nbformat": 4,
 "nbformat_minor": 2
}
